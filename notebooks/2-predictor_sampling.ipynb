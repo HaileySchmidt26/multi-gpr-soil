{
 "cells": [
  {
   "cell_type": "markdown",
   "id": "545167da-0e19-4427-bb8f-34830bf7f99e",
   "metadata": {},
   "source": [
    "# Predictor Variable Sampling\n",
    "\n",
    "The purpose of this notebook is to download to sample the geospatial features of the GPR model at the locations of the training data. For the objectives of this exercise, a few, readily-available features were selected for our model training. "
   ]
  },
  {
   "cell_type": "markdown",
   "id": "0cb804bf-e961-4804-a088-3f113bb7381f",
   "metadata": {},
   "source": [
    "#### Import libraries"
   ]
  },
  {
   "cell_type": "code",
   "execution_count": 1,
   "id": "6e264b31-4228-4088-9235-9c5cc3f99f18",
   "metadata": {},
   "outputs": [],
   "source": [
    "import os\n",
    "import numpy as np\n",
    "import pandas as pd\n",
    "import geopandas as gpd\n",
    "import xarray as xr\n",
    "import rioxarray\n",
    "import fiona\n",
    "import matplotlib.pyplot as plt\n",
    "import seaborn as sns\n",
    "import requests\n",
    "import zipfile\n",
    "import tarfile\n",
    "from shapely.geometry import Point"
   ]
  },
  {
   "cell_type": "markdown",
   "id": "13712b6b-e473-4e08-861a-1a4885d4eeff",
   "metadata": {},
   "source": [
    "____________________"
   ]
  },
  {
   "cell_type": "markdown",
   "id": "aa664a05-0bd2-453a-9e5d-9068ce2cd200",
   "metadata": {},
   "source": [
    "#### Load training data points"
   ]
  },
  {
   "cell_type": "code",
   "execution_count": 2,
   "id": "d4f4ce29-8f04-48e9-9944-01b8f6e4d434",
   "metadata": {},
   "outputs": [
    {
     "data": {
      "text/html": [
       "<div>\n",
       "<style scoped>\n",
       "    .dataframe tbody tr th:only-of-type {\n",
       "        vertical-align: middle;\n",
       "    }\n",
       "\n",
       "    .dataframe tbody tr th {\n",
       "        vertical-align: top;\n",
       "    }\n",
       "\n",
       "    .dataframe thead th {\n",
       "        text-align: right;\n",
       "    }\n",
       "</style>\n",
       "<table border=\"1\" class=\"dataframe\">\n",
       "  <thead>\n",
       "    <tr style=\"text-align: right;\">\n",
       "      <th></th>\n",
       "      <th>BOREHOLE_ID</th>\n",
       "      <th>BOREHOLE_NAME</th>\n",
       "      <th>BOREHOLE_TYPE</th>\n",
       "      <th>BOREHOLE_DEPTH_FT</th>\n",
       "      <th>ELEVATION_FT</th>\n",
       "      <th>LATITUDE</th>\n",
       "      <th>LONGITUDE</th>\n",
       "      <th>LAYER_NUMBER</th>\n",
       "      <th>TOP_DEPTH_FT</th>\n",
       "      <th>BOTTOM_DEPTH_FT</th>\n",
       "      <th>USCS</th>\n",
       "      <th>GEOLOGIC_UNIT</th>\n",
       "      <th>INTERPRETED_LITHOLOGY</th>\n",
       "      <th>LAYER_THICKNESS_FT</th>\n",
       "      <th>geometry</th>\n",
       "    </tr>\n",
       "  </thead>\n",
       "  <tbody>\n",
       "    <tr>\n",
       "      <th>0</th>\n",
       "      <td>7138</td>\n",
       "      <td>B-1</td>\n",
       "      <td>Geotechnical</td>\n",
       "      <td>20.3</td>\n",
       "      <td>167.8</td>\n",
       "      <td>47.656719</td>\n",
       "      <td>-122.305728</td>\n",
       "      <td>1</td>\n",
       "      <td>0.0</td>\n",
       "      <td>1.0</td>\n",
       "      <td>SP</td>\n",
       "      <td>NaN</td>\n",
       "      <td>NaN</td>\n",
       "      <td>1.0</td>\n",
       "      <td>POINT (-122.30573 47.65672)</td>\n",
       "    </tr>\n",
       "    <tr>\n",
       "      <th>1</th>\n",
       "      <td>7143</td>\n",
       "      <td>B-1-92</td>\n",
       "      <td>Geotechnical</td>\n",
       "      <td>48.5</td>\n",
       "      <td>123.2</td>\n",
       "      <td>47.653642</td>\n",
       "      <td>-122.306837</td>\n",
       "      <td>1</td>\n",
       "      <td>0.0</td>\n",
       "      <td>1.0</td>\n",
       "      <td>ML</td>\n",
       "      <td>NaN</td>\n",
       "      <td>NaN</td>\n",
       "      <td>1.0</td>\n",
       "      <td>POINT (-122.30684 47.65364)</td>\n",
       "    </tr>\n",
       "    <tr>\n",
       "      <th>2</th>\n",
       "      <td>7144</td>\n",
       "      <td>B-2-92</td>\n",
       "      <td>Geotechnical</td>\n",
       "      <td>42.5</td>\n",
       "      <td>122.9</td>\n",
       "      <td>47.653766</td>\n",
       "      <td>-122.306468</td>\n",
       "      <td>1</td>\n",
       "      <td>0.0</td>\n",
       "      <td>1.0</td>\n",
       "      <td>ML</td>\n",
       "      <td>NaN</td>\n",
       "      <td>NaN</td>\n",
       "      <td>1.0</td>\n",
       "      <td>POINT (-122.30647 47.65377)</td>\n",
       "    </tr>\n",
       "    <tr>\n",
       "      <th>3</th>\n",
       "      <td>7145</td>\n",
       "      <td>B-3-92</td>\n",
       "      <td>Geotechnical</td>\n",
       "      <td>43.0</td>\n",
       "      <td>117.3</td>\n",
       "      <td>47.653256</td>\n",
       "      <td>-122.306638</td>\n",
       "      <td>1</td>\n",
       "      <td>0.0</td>\n",
       "      <td>1.0</td>\n",
       "      <td>ML</td>\n",
       "      <td>NaN</td>\n",
       "      <td>NaN</td>\n",
       "      <td>1.0</td>\n",
       "      <td>POINT (-122.30664 47.65326)</td>\n",
       "    </tr>\n",
       "    <tr>\n",
       "      <th>4</th>\n",
       "      <td>7146</td>\n",
       "      <td>B-4-92</td>\n",
       "      <td>Geotechnical</td>\n",
       "      <td>43.0</td>\n",
       "      <td>123.4</td>\n",
       "      <td>47.653709</td>\n",
       "      <td>-122.306259</td>\n",
       "      <td>1</td>\n",
       "      <td>0.0</td>\n",
       "      <td>0.5</td>\n",
       "      <td>SM</td>\n",
       "      <td>NaN</td>\n",
       "      <td>NaN</td>\n",
       "      <td>0.5</td>\n",
       "      <td>POINT (-122.30626 47.65371)</td>\n",
       "    </tr>\n",
       "    <tr>\n",
       "      <th>...</th>\n",
       "      <td>...</td>\n",
       "      <td>...</td>\n",
       "      <td>...</td>\n",
       "      <td>...</td>\n",
       "      <td>...</td>\n",
       "      <td>...</td>\n",
       "      <td>...</td>\n",
       "      <td>...</td>\n",
       "      <td>...</td>\n",
       "      <td>...</td>\n",
       "      <td>...</td>\n",
       "      <td>...</td>\n",
       "      <td>...</td>\n",
       "      <td>...</td>\n",
       "      <td>...</td>\n",
       "    </tr>\n",
       "    <tr>\n",
       "      <th>504</th>\n",
       "      <td>143845</td>\n",
       "      <td>MW-1</td>\n",
       "      <td>Geotechnical</td>\n",
       "      <td>42.0</td>\n",
       "      <td>217.4</td>\n",
       "      <td>47.661044</td>\n",
       "      <td>-122.342453</td>\n",
       "      <td>1</td>\n",
       "      <td>0.0</td>\n",
       "      <td>7.5</td>\n",
       "      <td>SM</td>\n",
       "      <td>NaN</td>\n",
       "      <td>NaN</td>\n",
       "      <td>7.5</td>\n",
       "      <td>POINT (-122.34245 47.66104)</td>\n",
       "    </tr>\n",
       "    <tr>\n",
       "      <th>505</th>\n",
       "      <td>143846</td>\n",
       "      <td>MW-2</td>\n",
       "      <td>Geotechnical</td>\n",
       "      <td>43.0</td>\n",
       "      <td>218.2</td>\n",
       "      <td>47.661138</td>\n",
       "      <td>-122.342516</td>\n",
       "      <td>1</td>\n",
       "      <td>0.0</td>\n",
       "      <td>7.5</td>\n",
       "      <td>SM</td>\n",
       "      <td>NaN</td>\n",
       "      <td>NaN</td>\n",
       "      <td>7.5</td>\n",
       "      <td>POINT (-122.34252 47.66114)</td>\n",
       "    </tr>\n",
       "    <tr>\n",
       "      <th>506</th>\n",
       "      <td>143847</td>\n",
       "      <td>MW-3</td>\n",
       "      <td>Geotechnical</td>\n",
       "      <td>45.5</td>\n",
       "      <td>219.3</td>\n",
       "      <td>47.661276</td>\n",
       "      <td>-122.342492</td>\n",
       "      <td>1</td>\n",
       "      <td>0.0</td>\n",
       "      <td>18.0</td>\n",
       "      <td>SM</td>\n",
       "      <td>NaN</td>\n",
       "      <td>NaN</td>\n",
       "      <td>18.0</td>\n",
       "      <td>POINT (-122.34249 47.66128)</td>\n",
       "    </tr>\n",
       "    <tr>\n",
       "      <th>507</th>\n",
       "      <td>143848</td>\n",
       "      <td>MW-4</td>\n",
       "      <td>Geotechnical</td>\n",
       "      <td>43.0</td>\n",
       "      <td>219.1</td>\n",
       "      <td>47.661177</td>\n",
       "      <td>-122.342383</td>\n",
       "      <td>1</td>\n",
       "      <td>0.0</td>\n",
       "      <td>10.0</td>\n",
       "      <td>SM</td>\n",
       "      <td>NaN</td>\n",
       "      <td>NaN</td>\n",
       "      <td>10.0</td>\n",
       "      <td>POINT (-122.34238 47.66118)</td>\n",
       "    </tr>\n",
       "    <tr>\n",
       "      <th>508</th>\n",
       "      <td>143849</td>\n",
       "      <td>MW-5</td>\n",
       "      <td>Geotechnical</td>\n",
       "      <td>43.0</td>\n",
       "      <td>218.9</td>\n",
       "      <td>47.661273</td>\n",
       "      <td>-122.342365</td>\n",
       "      <td>1</td>\n",
       "      <td>0.0</td>\n",
       "      <td>8.5</td>\n",
       "      <td>SM</td>\n",
       "      <td>NaN</td>\n",
       "      <td>NaN</td>\n",
       "      <td>8.5</td>\n",
       "      <td>POINT (-122.34237 47.66127)</td>\n",
       "    </tr>\n",
       "  </tbody>\n",
       "</table>\n",
       "<p>509 rows × 15 columns</p>\n",
       "</div>"
      ],
      "text/plain": [
       "     BOREHOLE_ID BOREHOLE_NAME BOREHOLE_TYPE  BOREHOLE_DEPTH_FT  ELEVATION_FT  \\\n",
       "0           7138           B-1  Geotechnical               20.3         167.8   \n",
       "1           7143        B-1-92  Geotechnical               48.5         123.2   \n",
       "2           7144        B-2-92  Geotechnical               42.5         122.9   \n",
       "3           7145        B-3-92  Geotechnical               43.0         117.3   \n",
       "4           7146        B-4-92  Geotechnical               43.0         123.4   \n",
       "..           ...           ...           ...                ...           ...   \n",
       "504       143845          MW-1  Geotechnical               42.0         217.4   \n",
       "505       143846          MW-2  Geotechnical               43.0         218.2   \n",
       "506       143847          MW-3  Geotechnical               45.5         219.3   \n",
       "507       143848          MW-4  Geotechnical               43.0         219.1   \n",
       "508       143849          MW-5  Geotechnical               43.0         218.9   \n",
       "\n",
       "      LATITUDE   LONGITUDE  LAYER_NUMBER  TOP_DEPTH_FT  BOTTOM_DEPTH_FT USCS  \\\n",
       "0    47.656719 -122.305728             1           0.0              1.0   SP   \n",
       "1    47.653642 -122.306837             1           0.0              1.0   ML   \n",
       "2    47.653766 -122.306468             1           0.0              1.0   ML   \n",
       "3    47.653256 -122.306638             1           0.0              1.0   ML   \n",
       "4    47.653709 -122.306259             1           0.0              0.5   SM   \n",
       "..         ...         ...           ...           ...              ...  ...   \n",
       "504  47.661044 -122.342453             1           0.0              7.5   SM   \n",
       "505  47.661138 -122.342516             1           0.0              7.5   SM   \n",
       "506  47.661276 -122.342492             1           0.0             18.0   SM   \n",
       "507  47.661177 -122.342383             1           0.0             10.0   SM   \n",
       "508  47.661273 -122.342365             1           0.0              8.5   SM   \n",
       "\n",
       "    GEOLOGIC_UNIT INTERPRETED_LITHOLOGY  LAYER_THICKNESS_FT  \\\n",
       "0             NaN                   NaN                 1.0   \n",
       "1             NaN                   NaN                 1.0   \n",
       "2             NaN                   NaN                 1.0   \n",
       "3             NaN                   NaN                 1.0   \n",
       "4             NaN                   NaN                 0.5   \n",
       "..            ...                   ...                 ...   \n",
       "504           NaN                   NaN                 7.5   \n",
       "505           NaN                   NaN                 7.5   \n",
       "506           NaN                   NaN                18.0   \n",
       "507           NaN                   NaN                10.0   \n",
       "508           NaN                   NaN                 8.5   \n",
       "\n",
       "                        geometry  \n",
       "0    POINT (-122.30573 47.65672)  \n",
       "1    POINT (-122.30684 47.65364)  \n",
       "2    POINT (-122.30647 47.65377)  \n",
       "3    POINT (-122.30664 47.65326)  \n",
       "4    POINT (-122.30626 47.65371)  \n",
       "..                           ...  \n",
       "504  POINT (-122.34245 47.66104)  \n",
       "505  POINT (-122.34252 47.66114)  \n",
       "506  POINT (-122.34249 47.66128)  \n",
       "507  POINT (-122.34238 47.66118)  \n",
       "508  POINT (-122.34237 47.66127)  \n",
       "\n",
       "[509 rows x 15 columns]"
      ]
     },
     "execution_count": 2,
     "metadata": {},
     "output_type": "execute_result"
    }
   ],
   "source": [
    "# Load the training data CSV file compiled in `1-data_access.ipynb`\n",
    "input_file = '../data/1-uw_layer1_data.csv'\n",
    "training_data = pd.read_csv(input_file)\n",
    "\n",
    "# Create a GeoDataFrame from the DataFrame\n",
    "training_data = gpd.GeoDataFrame(training_data, geometry=gpd.points_from_xy(training_data.LONGITUDE, training_data.LATITUDE))\n",
    "    \n",
    "# Set the CRS to WGS84 (latitude and longitude)\n",
    "training_data.set_crs(epsg=4326, inplace=True)\n",
    "\n",
    "training_data"
   ]
  },
  {
   "cell_type": "markdown",
   "id": "08fb9989-deeb-486b-8e0f-fe3f457fd7f6",
   "metadata": {},
   "source": [
    "____________________"
   ]
  },
  {
   "cell_type": "markdown",
   "id": "5b471b6f-3014-4f81-9d7b-379e2d8e682c",
   "metadata": {},
   "source": [
    "#### Download geospatial predictor variables"
   ]
  },
  {
   "cell_type": "markdown",
   "id": "55620f7c-3cbd-4ff4-a1b7-3f6eda25c0d8",
   "metadata": {},
   "source": [
    "Surface Geologic Map"
   ]
  },
  {
   "cell_type": "code",
   "execution_count": 3,
   "id": "c46a3a7a-5e3a-4e14-b974-91b4a6720104",
   "metadata": {},
   "outputs": [],
   "source": [
    "# Define the URL and save path for the zip file\n",
    "url = 'https://fortress.wa.gov/dnr/geologydata/publications/data_download/ger_portal_surface_geology_24k.zip'\n",
    "save_path = '../data/temp/ger_portal_surface_geology_24k.zip'\n",
    "extract_path = '../data/temp/geo_files/'\n",
    "\n",
    "# Ensure the target folders exist\n",
    "os.makedirs(os.path.dirname(save_path), exist_ok=True)\n",
    "os.makedirs(extract_path, exist_ok=True)"
   ]
  },
  {
   "cell_type": "code",
   "execution_count": 4,
   "id": "b8e86762-07d0-482c-ba97-b292bc19ee33",
   "metadata": {},
   "outputs": [
    {
     "name": "stdout",
     "output_type": "stream",
     "text": [
      "Downloaded file saved to ../data/temp/ger_portal_surface_geology_24k.zip\n"
     ]
    }
   ],
   "source": [
    "try:\n",
    "    with requests.get(url, stream=True) as response:\n",
    "        response.raise_for_status()\n",
    "        with open(save_path, 'wb') as file:\n",
    "            for chunk in response.iter_content(chunk_size=8192):  # Download in chunks\n",
    "                file.write(chunk)\n",
    "    print(f\"Downloaded file saved to {save_path}\")\n",
    "except requests.exceptions.RequestException as e:\n",
    "    print(f\"Failed to download the file. Error: {e}\")\n",
    "    exit(1)"
   ]
  },
  {
   "cell_type": "code",
   "execution_count": 5,
   "id": "830e566d-9f46-404b-a5ef-fe03130e0b33",
   "metadata": {},
   "outputs": [
    {
     "name": "stdout",
     "output_type": "stream",
     "text": [
      "Files extracted to ../data/temp/geo_files/\n"
     ]
    }
   ],
   "source": [
    "# Check if the file is a valid ZIP file and extract files\n",
    "if zipfile.is_zipfile(save_path):\n",
    "    try:\n",
    "        with zipfile.ZipFile(save_path, 'r') as zip_ref:\n",
    "            zip_ref.extractall(extract_path)\n",
    "        print(f\"Files extracted to {extract_path}\")\n",
    "    except zipfile.BadZipFile as e:\n",
    "        print(f\"Error: The file at {save_path} is a bad ZIP file. {str(e)}\")\n",
    "else:\n",
    "    print(f\"Error: The file at {save_path} is not recognized as a valid ZIP file.\")"
   ]
  },
  {
   "cell_type": "code",
   "execution_count": 6,
   "id": "319e2075-4147-451e-a10e-d0825f4de607",
   "metadata": {},
   "outputs": [
    {
     "name": "stdout",
     "output_type": "stream",
     "text": [
      "Extracted files: ['layer_file', 'Surface_geology_24k.mpkx', '.ipynb_checkpoints', 'metadata', 'WGS_Surface_Geology_24k.gdb', 'README_surface_geology_24k.doc']\n"
     ]
    }
   ],
   "source": [
    "# View the extracted files\n",
    "extracted_files = os.listdir(extract_path)\n",
    "print(f\"Extracted files: {extracted_files}\")"
   ]
  },
  {
   "cell_type": "markdown",
   "id": "3568251b-b6ef-4a81-a48a-71385a0e5fdc",
   "metadata": {},
   "source": [
    "DEM-Derived Topographic Slope (90m resolution)"
   ]
  },
  {
   "cell_type": "code",
   "execution_count": null,
   "id": "bd81b78f-a589-434c-beb6-2ee0befa116c",
   "metadata": {},
   "outputs": [],
   "source": [
    "url = 'https://opentopography.s3.sdsc.edu/dataspace/OTDS.012020.4326.1/raster/slope/'\n",
    "save_path = '../data/temp/slope_data.zip'\n",
    "slope_extract_path = '../data/temp/slope_files/'\n",
    "\n",
    "file = f'slope_90M_n30w150.tar.gz'\n",
    "file_url = url + file\n",
    "\n",
    "# download tar.gz file\n",
    "response = requests.get(file_url)\n",
    "with open(save_path, 'wb') as f:\n",
    "    f.write(response.content)\n",
    "\n",
    "with tarfile.open(save_path, \"r:gz\") as tar:\n",
    "    tar.extractall(slope_extract_path)"
   ]
  },
  {
   "cell_type": "markdown",
   "id": "417ea33e-5fb7-48bc-ad5b-8224774c890a",
   "metadata": {},
   "source": [
    "DEM-Derived Roughness (90m resolution)"
   ]
  },
  {
   "cell_type": "code",
   "execution_count": null,
   "id": "791c0828-b2d2-4446-930c-0478d8fc2c4d",
   "metadata": {},
   "outputs": [],
   "source": [
    "url = 'https://opentopography.s3.sdsc.edu/dataspace/OTDS.012020.4326.1/raster/roughness/'\n",
    "save_path = '../data/temp/roughness_data.zip'\n",
    "roughness_extract_path = '../data/temp/roughness_files/'\n",
    "\n",
    "file = f'roughness_90M_n30w150.tar.gz'\n",
    "file_url = url + file\n",
    "\n",
    "# download tar.gz file\n",
    "response = requests.get(file_url)\n",
    "with open(save_path, 'wb') as f:\n",
    "    f.write(response.content)\n",
    "\n",
    "with tarfile.open(save_path, \"r:gz\") as tar:\n",
    "    tar.extractall(roughness_extract_path)"
   ]
  },
  {
   "cell_type": "markdown",
   "id": "eec33a99-7714-4e78-96e5-9bc4ce4ee2e0",
   "metadata": {},
   "source": [
    "____________________"
   ]
  },
  {
   "cell_type": "markdown",
   "id": "a1a1890e-ecc6-4996-9d2d-e41370753d25",
   "metadata": {},
   "source": [
    "#### Sample predictor variables at training data locations"
   ]
  },
  {
   "cell_type": "markdown",
   "id": "2d5ada7a-be92-4fbf-9076-d82fce71daee",
   "metadata": {},
   "source": [
    "Surface Geology Map"
   ]
  },
  {
   "cell_type": "code",
   "execution_count": null,
   "id": "84c3002d-7b3c-4917-b8c2-2560b420fab4",
   "metadata": {},
   "outputs": [],
   "source": [
    "# Open the geodatabase file: 'WGS_Subsurface_Database.gdb' in the extracted files\n",
    "gdb_path = os.path.join(extract_path, 'WGS_Surface_Geology_24k.gdb') \n",
    "\n",
    "# List all layers in the geodatabase\n",
    "layers = fiona.listlayers(gdb_path)\n",
    "print(f\"Layers in the geodatabase: {layers}\")\n",
    "\n",
    "# We are interested in the geologic_unit_poly layer table\n",
    "geologic_unit_poly = gpd.read_file(gdb_path, layer='geologic_unit_poly')\n",
    "print(f\"Shape of the layer_data table: {geologic_unit_poly.shape}\")\n",
    "\n",
    "print(\"Columns:\", geologic_unit_poly.columns)\n",
    "\n",
    "# Display the first few rows of the geologic_unit_poly table\n",
    "# geologic_unit_poly.head()"
   ]
  },
  {
   "cell_type": "code",
   "execution_count": null,
   "id": "c4a488b4-7f78-48d2-b42c-0c7863467467",
   "metadata": {},
   "outputs": [],
   "source": [
    "# Process the FEATURE_LINK to keep only the last \"cell\" (e.g., 'Qvt')\n",
    "geologic_unit_poly['FEATURE_LINK'] = geologic_unit_poly['FEATURE_LINK'].apply(lambda x: x.split('|')[-1].strip())\n",
    "\n",
    "# Ensure that the CRS matches, reproject if necessary\n",
    "geologic_unit_poly = geologic_unit_poly.to_crs(training_data.crs)\n",
    "\n",
    "# Sample the geologic_unit_poly layer at the training data points\n",
    "# Spatial join between training data points and geologic_unit_poly\n",
    "sampled_data = gpd.sjoin(training_data, geologic_unit_poly, how='left', predicate='intersects')\n",
    "\n",
    "# Add column to training data\n",
    "training_data['MAPPED_UNIT'] = sampled_data['FEATURE_LINK']\n",
    "\n",
    "# Clear up memory\n",
    "del sampled_data"
   ]
  },
  {
   "cell_type": "markdown",
   "id": "e50925ef-01af-48e2-8df1-f990f2fcb67b",
   "metadata": {},
   "source": [
    "DEM-Derived Topographic Slope (90m resolution)"
   ]
  },
  {
   "cell_type": "code",
   "execution_count": null,
   "id": "2e8619af-1c0a-46d4-97a1-2acba3964e6a",
   "metadata": {},
   "outputs": [],
   "source": [
    "file = os.path.join(slope_extract_path,'slope_90M_n45w125.tif')\n",
    "\n",
    "# Extract all x and y coordinates from the GeoDataFrame\n",
    "xs = training_data.LONGITUDE\n",
    "ys = training_data.LATITUDE\n",
    "data = rioxarray.open_rasterio(file, masked=True).squeeze()\n",
    "\n",
    "# Vectorized extraction of values \n",
    "extracted_values = data.sel(x=xr.DataArray(xs, dims=\"z\"), y=xr.DataArray(ys, dims=\"z\"), method=\"nearest\", tolerance=0.01)\n",
    "\n",
    "# Assign all the computed values to the DataFrame\n",
    "training_data['SLOPE'] = extracted_values\n",
    "training_data['SLOPE'].describe()"
   ]
  },
  {
   "cell_type": "markdown",
   "id": "a5d9bb66-0808-49d5-9f49-57a06bab26d0",
   "metadata": {},
   "source": [
    "DEM-Derived Roughness (90m resolution)"
   ]
  },
  {
   "cell_type": "code",
   "execution_count": null,
   "id": "9ffce6cb-ce52-4c6b-b57c-601eb35d8752",
   "metadata": {},
   "outputs": [],
   "source": [
    "file = os.path.join(roughness_extract_path,'roughness_90M_n45w125.tif')\n",
    "\n",
    "# Extract all x and y coordinates from the GeoDataFrame\n",
    "xs = training_data.LONGITUDE\n",
    "ys = training_data.LATITUDE\n",
    "\n",
    "data = rioxarray.open_rasterio(file, masked=True).squeeze()\n",
    "\n",
    "# Vectorized extraction of values \n",
    "extracted_values = data.sel(x=xr.DataArray(xs, dims=\"z\"), y=xr.DataArray(ys, dims=\"z\"), method=\"nearest\", tolerance=0.01)\n",
    "\n",
    "# Assign all the computed values to the DataFrame\n",
    "training_data['ROUGHNESS'] = extracted_values\n",
    "training_data['ROUGHNESS'].describe()"
   ]
  },
  {
   "cell_type": "markdown",
   "id": "fa01fe5f-7353-4ad7-a75b-d486e2e26faa",
   "metadata": {},
   "source": [
    "____________________"
   ]
  },
  {
   "cell_type": "markdown",
   "id": "b46b5965-0494-4d96-87f7-5d2119ffac86",
   "metadata": {},
   "source": [
    "#### View and save the training data with features"
   ]
  },
  {
   "cell_type": "code",
   "execution_count": null,
   "id": "8b002e8a-a991-4bba-b82f-73f69451ddca",
   "metadata": {},
   "outputs": [],
   "source": [
    "# Display the unique values in the 'MAPPED_UNIT' column and their counts\n",
    "geo_counts = training_data['MAPPED_UNIT'].value_counts()\n",
    "print(geo_counts)"
   ]
  },
  {
   "cell_type": "code",
   "execution_count": null,
   "id": "32c49ade-073c-4422-b3d7-3c729e80251b",
   "metadata": {},
   "outputs": [],
   "source": [
    "# Make a histogram of the slope values\n",
    "plt.figure(figsize=(10, 6))\n",
    "sns.histplot(training_data['SLOPE'], bins=20, kde=True)"
   ]
  },
  {
   "cell_type": "code",
   "execution_count": null,
   "id": "db3c5b33-03dc-4c50-95b8-26a13e8886c8",
   "metadata": {},
   "outputs": [],
   "source": [
    "# Make a histogram of the slope values\n",
    "plt.figure(figsize=(10, 6))\n",
    "sns.histplot(training_data['ROUGHNESS'], bins=20, kde=True)"
   ]
  },
  {
   "cell_type": "code",
   "execution_count": null,
   "id": "f8ed1748-ec12-4adc-9624-6c99981c89a7",
   "metadata": {},
   "outputs": [],
   "source": [
    "# Save the training data to a new CSV file\n",
    "output_file = '../data/2-uw_layer1_trainingdata.csv'\n",
    "training_data.to_csv(output_file, index=False)"
   ]
  },
  {
   "cell_type": "markdown",
   "id": "b9572ab2-b989-44a2-b38a-ce10837c2663",
   "metadata": {},
   "source": [
    "____________________"
   ]
  },
  {
   "cell_type": "markdown",
   "id": "43fd695f-7b66-46d9-a6d9-2c605f8cdca9",
   "metadata": {},
   "source": [
    "Sources:\n",
    "1. Amatulli, G., McInerney, D., Sethi, T. et al. Geomorpho90m, empirical evaluation and accuracy assessment of global high-resolution geomorphometric layers. Sci Data 7, 162 (2020). https://doi.org/10.1038/s41597-020-0479-6\n",
    "2. Washington Geological Survey, 2023, Surface geology, 1:24,000--GIS data, January 2023: Washington Geological Survey Digital Data Series DS-10, version 3.2, previously released November 2019. https://www.dnr.wa.gov/publications/ger_portal_surface_geology_24k.zip"
   ]
  }
 ],
 "metadata": {
  "kernelspec": {
   "display_name": "Python 3 (ipykernel)",
   "language": "python",
   "name": "python3"
  },
  "language_info": {
   "codemirror_mode": {
    "name": "ipython",
    "version": 3
   },
   "file_extension": ".py",
   "mimetype": "text/x-python",
   "name": "python",
   "nbconvert_exporter": "python",
   "pygments_lexer": "ipython3",
   "version": "3.11.9"
  }
 },
 "nbformat": 4,
 "nbformat_minor": 5
}
