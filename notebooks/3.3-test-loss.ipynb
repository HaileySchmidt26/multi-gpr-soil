{
 "cells": [
  {
   "cell_type": "code",
   "execution_count": 1,
   "id": "61f30148-0cde-43e6-bb45-1e97d80800e2",
   "metadata": {},
   "outputs": [],
   "source": [
    "# import relevant packages\n",
    "import matplotlib.pyplot as plt\n",
    "import pandas as pd\n",
    "import numpy as np"
   ]
  },
  {
   "cell_type": "code",
   "execution_count": 2,
   "id": "6aff26be-f9df-4298-bcec-662f3c2e772e",
   "metadata": {},
   "outputs": [
    {
     "data": {
      "text/html": [
       "<div>\n",
       "<style scoped>\n",
       "    .dataframe tbody tr th:only-of-type {\n",
       "        vertical-align: middle;\n",
       "    }\n",
       "\n",
       "    .dataframe tbody tr th {\n",
       "        vertical-align: top;\n",
       "    }\n",
       "\n",
       "    .dataframe thead th {\n",
       "        text-align: right;\n",
       "    }\n",
       "</style>\n",
       "<table border=\"1\" class=\"dataframe\">\n",
       "  <thead>\n",
       "    <tr style=\"text-align: right;\">\n",
       "      <th></th>\n",
       "      <th>BOREHOLE_ID</th>\n",
       "      <th>BOREHOLE_NAME</th>\n",
       "      <th>BOREHOLE_TYPE</th>\n",
       "      <th>BOREHOLE_DEPTH_FT</th>\n",
       "      <th>ELEVATION_FT</th>\n",
       "      <th>LATITUDE</th>\n",
       "      <th>LONGITUDE</th>\n",
       "      <th>LAYER_NUMBER</th>\n",
       "      <th>TOP_DEPTH_FT</th>\n",
       "      <th>BOTTOM_DEPTH_FT</th>\n",
       "      <th>USCS</th>\n",
       "      <th>SIMPLE_USCS</th>\n",
       "      <th>LAYER_THICKNESS_FT</th>\n",
       "    </tr>\n",
       "  </thead>\n",
       "  <tbody>\n",
       "    <tr>\n",
       "      <th>0</th>\n",
       "      <td>7138</td>\n",
       "      <td>B-1</td>\n",
       "      <td>Geotechnical</td>\n",
       "      <td>20.3</td>\n",
       "      <td>167.8</td>\n",
       "      <td>47.656719</td>\n",
       "      <td>-122.305728</td>\n",
       "      <td>1</td>\n",
       "      <td>0.0</td>\n",
       "      <td>1.0</td>\n",
       "      <td>SP</td>\n",
       "      <td>S</td>\n",
       "      <td>1.0</td>\n",
       "    </tr>\n",
       "    <tr>\n",
       "      <th>1</th>\n",
       "      <td>7143</td>\n",
       "      <td>B-1-92</td>\n",
       "      <td>Geotechnical</td>\n",
       "      <td>48.5</td>\n",
       "      <td>123.2</td>\n",
       "      <td>47.653642</td>\n",
       "      <td>-122.306837</td>\n",
       "      <td>1</td>\n",
       "      <td>0.0</td>\n",
       "      <td>1.0</td>\n",
       "      <td>ML</td>\n",
       "      <td>M</td>\n",
       "      <td>1.0</td>\n",
       "    </tr>\n",
       "    <tr>\n",
       "      <th>2</th>\n",
       "      <td>7144</td>\n",
       "      <td>B-2-92</td>\n",
       "      <td>Geotechnical</td>\n",
       "      <td>42.5</td>\n",
       "      <td>122.9</td>\n",
       "      <td>47.653766</td>\n",
       "      <td>-122.306468</td>\n",
       "      <td>1</td>\n",
       "      <td>0.0</td>\n",
       "      <td>1.0</td>\n",
       "      <td>ML</td>\n",
       "      <td>M</td>\n",
       "      <td>1.0</td>\n",
       "    </tr>\n",
       "    <tr>\n",
       "      <th>3</th>\n",
       "      <td>7145</td>\n",
       "      <td>B-3-92</td>\n",
       "      <td>Geotechnical</td>\n",
       "      <td>43.0</td>\n",
       "      <td>117.3</td>\n",
       "      <td>47.653256</td>\n",
       "      <td>-122.306638</td>\n",
       "      <td>1</td>\n",
       "      <td>0.0</td>\n",
       "      <td>1.0</td>\n",
       "      <td>ML</td>\n",
       "      <td>M</td>\n",
       "      <td>1.0</td>\n",
       "    </tr>\n",
       "    <tr>\n",
       "      <th>4</th>\n",
       "      <td>7146</td>\n",
       "      <td>B-4-92</td>\n",
       "      <td>Geotechnical</td>\n",
       "      <td>43.0</td>\n",
       "      <td>123.4</td>\n",
       "      <td>47.653709</td>\n",
       "      <td>-122.306259</td>\n",
       "      <td>1</td>\n",
       "      <td>0.0</td>\n",
       "      <td>0.5</td>\n",
       "      <td>SM</td>\n",
       "      <td>S</td>\n",
       "      <td>0.5</td>\n",
       "    </tr>\n",
       "  </tbody>\n",
       "</table>\n",
       "</div>"
      ],
      "text/plain": [
       "   BOREHOLE_ID BOREHOLE_NAME BOREHOLE_TYPE  BOREHOLE_DEPTH_FT  ELEVATION_FT  \\\n",
       "0         7138           B-1  Geotechnical               20.3         167.8   \n",
       "1         7143        B-1-92  Geotechnical               48.5         123.2   \n",
       "2         7144        B-2-92  Geotechnical               42.5         122.9   \n",
       "3         7145        B-3-92  Geotechnical               43.0         117.3   \n",
       "4         7146        B-4-92  Geotechnical               43.0         123.4   \n",
       "\n",
       "    LATITUDE   LONGITUDE  LAYER_NUMBER  TOP_DEPTH_FT  BOTTOM_DEPTH_FT USCS  \\\n",
       "0  47.656719 -122.305728             1           0.0              1.0   SP   \n",
       "1  47.653642 -122.306837             1           0.0              1.0   ML   \n",
       "2  47.653766 -122.306468             1           0.0              1.0   ML   \n",
       "3  47.653256 -122.306638             1           0.0              1.0   ML   \n",
       "4  47.653709 -122.306259             1           0.0              0.5   SM   \n",
       "\n",
       "  SIMPLE_USCS  LAYER_THICKNESS_FT  \n",
       "0           S                 1.0  \n",
       "1           M                 1.0  \n",
       "2           M                 1.0  \n",
       "3           M                 1.0  \n",
       "4           S                 0.5  "
      ]
     },
     "execution_count": 2,
     "metadata": {},
     "output_type": "execute_result"
    }
   ],
   "source": [
    "# read in data\n",
    "df = pd.read_csv('../data/1-uw_layer1_data.csv')\n",
    "\n",
    "# display\n",
    "df.head()"
   ]
  },
  {
   "cell_type": "code",
   "execution_count": 90,
   "id": "20785819-2666-4540-a512-d16a9b09f6b8",
   "metadata": {},
   "outputs": [],
   "source": [
    "ucsc_classes = df['USCS']"
   ]
  },
  {
   "cell_type": "code",
   "execution_count": 91,
   "id": "872ba5ac-7797-459d-900a-bced3447b691",
   "metadata": {},
   "outputs": [
    {
     "data": {
      "text/plain": [
       "array(['CH', 'CL', 'GM', 'GP', 'GP-GM', 'GW', 'MH', 'ML', 'OH', 'OL',\n",
       "       'PT', 'SC', 'SM', 'SP', 'SP-SM', 'SW', 'SW-SM'], dtype='<U5')"
      ]
     },
     "execution_count": 91,
     "metadata": {},
     "output_type": "execute_result"
    }
   ],
   "source": [
    "from sklearn.preprocessing import LabelEncoder\n",
    "le = LabelEncoder()\n",
    "\n",
    "le.fit(list(uscs_classes))\n",
    "le.classes_"
   ]
  },
  {
   "cell_type": "code",
   "execution_count": 92,
   "id": "4f42cc06-6b7b-40c1-b7ba-34ba140d112f",
   "metadata": {},
   "outputs": [
    {
     "data": {
      "text/plain": [
       "506"
      ]
     },
     "execution_count": 92,
     "metadata": {},
     "output_type": "execute_result"
    }
   ],
   "source": [
    "len(uscs_classes)"
   ]
  },
  {
   "cell_type": "code",
   "execution_count": 93,
   "id": "c4e4f49f-7ee0-4585-ba5d-a8c1cb20700f",
   "metadata": {},
   "outputs": [
    {
     "data": {
      "text/plain": [
       "array([ 0,  1,  2,  3,  4,  5,  6,  7,  8,  9, 10, 11, 12, 13, 14, 15, 16])"
      ]
     },
     "execution_count": 93,
     "metadata": {},
     "output_type": "execute_result"
    }
   ],
   "source": [
    "np.unique(le.transform(uscs_classes))"
   ]
  },
  {
   "cell_type": "code",
   "execution_count": 94,
   "id": "e06eab54-826a-4bb3-b3e1-1a9a399a46bc",
   "metadata": {},
   "outputs": [],
   "source": [
    "parent = {} # empty dict for classes\n",
    "for i in np.unique(le.transform(uscs_classes)):\n",
    "    parent[i] = le.inverse_transform([i])[0][0]"
   ]
  },
  {
   "cell_type": "code",
   "execution_count": 95,
   "id": "6c33d6b1-61d4-4d10-bc2f-06d3f3066518",
   "metadata": {},
   "outputs": [
    {
     "data": {
      "text/plain": [
       "dict_values(['C', 'C', 'G', 'G', 'G', 'G', 'M', 'M', 'O', 'O', 'P', 'S', 'S', 'S', 'S', 'S', 'S'])"
      ]
     },
     "execution_count": 95,
     "metadata": {},
     "output_type": "execute_result"
    }
   ],
   "source": [
    "parent.values()"
   ]
  },
  {
   "cell_type": "code",
   "execution_count": 96,
   "id": "3063f773-955c-4cbe-aae0-5183d47fd363",
   "metadata": {},
   "outputs": [
    {
     "data": {
      "text/plain": [
       "{'G': 'Course',\n",
       " 'S': 'Course',\n",
       " 'M': 'Fine',\n",
       " 'C': 'Fine',\n",
       " 'O': 'Fine',\n",
       " 'P': 'Organic'}"
      ]
     },
     "execution_count": 96,
     "metadata": {},
     "output_type": "execute_result"
    }
   ],
   "source": [
    "root = {} # empty dict for parent classes\n",
    "root['G'] = 'Course'\n",
    "root['S'] = 'Course'\n",
    "root['M'] = 'Fine'\n",
    "root['C'] = 'Fine'\n",
    "root['O'] = 'Fine'\n",
    "root['P'] = 'Organic'\n",
    "\n",
    "root"
   ]
  },
  {
   "cell_type": "code",
   "execution_count": 97,
   "id": "d031496d-2ba7-4e02-b5de-c185b2998a5a",
   "metadata": {},
   "outputs": [
    {
     "data": {
      "text/plain": [
       "{0: 'C',\n",
       " 1: 'C',\n",
       " 2: 'G',\n",
       " 3: 'G',\n",
       " 4: 'G',\n",
       " 5: 'G',\n",
       " 6: 'M',\n",
       " 7: 'M',\n",
       " 8: 'O',\n",
       " 9: 'O',\n",
       " 10: 'P',\n",
       " 11: 'S',\n",
       " 12: 'S',\n",
       " 13: 'S',\n",
       " 14: 'S',\n",
       " 15: 'S',\n",
       " 16: 'S'}"
      ]
     },
     "execution_count": 97,
     "metadata": {},
     "output_type": "execute_result"
    }
   ],
   "source": [
    "parent"
   ]
  },
  {
   "cell_type": "code",
   "execution_count": 99,
   "id": "66ee848c-79f2-4c19-8b3d-3f3e4e589b79",
   "metadata": {},
   "outputs": [],
   "source": [
    "def loss(ytrue, ypred):\n",
    "    error = 0\n",
    "    ycheck = ytrue - ypred\n",
    "\n",
    "    sim = 1 # similarity factor\n",
    "    for i, yc in enumerate(ycheck):\n",
    "        # if zero, the classes are matching and 0 \n",
    "        # is added to the total error\n",
    "        ptrue, ppred = parent[ytrue[i]], parent[ypred[i]]\n",
    "        rtrue, rpred = root[ptrue], root[ppred]\n",
    "        if yc == 0:\n",
    "            sim = 1\n",
    "        elif ptrue == ppred:\n",
    "            sim = 0.5\n",
    "        elif rtrue == rpred:\n",
    "            sim = 0.25\n",
    "        else:\n",
    "            sim = 0\n",
    "        error += (1-sim)\n",
    "        \n",
    "    return error"
   ]
  },
  {
   "cell_type": "code",
   "execution_count": null,
   "id": "990c22a8-89d2-4889-bab8-09f30a317a71",
   "metadata": {},
   "outputs": [],
   "source": [
    "# testing!"
   ]
  },
  {
   "cell_type": "code",
   "execution_count": 100,
   "id": "32dccf8e-29be-483a-b2b9-df68fed3c36c",
   "metadata": {},
   "outputs": [],
   "source": [
    "ypred = np.random.randint(0, 16, size=500)\n",
    "ytrue = np.random.randint(0, 16, size=500)"
   ]
  },
  {
   "cell_type": "code",
   "execution_count": 101,
   "id": "7bc558fb-932b-49da-95a5-cfe01b8291c8",
   "metadata": {},
   "outputs": [
    {
     "data": {
      "text/plain": [
       "404.5"
      ]
     },
     "execution_count": 101,
     "metadata": {},
     "output_type": "execute_result"
    }
   ],
   "source": [
    "loss(ytrue, ypred)"
   ]
  },
  {
   "cell_type": "code",
   "execution_count": 102,
   "id": "59176907-1833-48f8-8732-f38d8b1a7a1d",
   "metadata": {},
   "outputs": [
    {
     "data": {
      "text/plain": [
       "0"
      ]
     },
     "execution_count": 102,
     "metadata": {},
     "output_type": "execute_result"
    }
   ],
   "source": [
    "ypred = ytrue\n",
    "loss(ytrue, ypred) # should be zero"
   ]
  },
  {
   "cell_type": "code",
   "execution_count": null,
   "id": "a112b331-388f-47a9-8eac-a6a9db2bcab4",
   "metadata": {},
   "outputs": [],
   "source": []
  }
 ],
 "metadata": {
  "kernelspec": {
   "display_name": "Python 3 (ipykernel)",
   "language": "python",
   "name": "python3"
  },
  "language_info": {
   "codemirror_mode": {
    "name": "ipython",
    "version": 3
   },
   "file_extension": ".py",
   "mimetype": "text/x-python",
   "name": "python",
   "nbconvert_exporter": "python",
   "pygments_lexer": "ipython3",
   "version": "3.11.9"
  }
 },
 "nbformat": 4,
 "nbformat_minor": 5
}
